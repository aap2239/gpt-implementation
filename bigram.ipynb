{
 "cells": [
  {
   "cell_type": "markdown",
   "metadata": {},
   "source": [
    "# Initial Tests"
   ]
  },
  {
   "cell_type": "markdown",
   "metadata": {},
   "source": [
    "## Import Libraries"
   ]
  },
  {
   "cell_type": "code",
   "execution_count": 22,
   "metadata": {},
   "outputs": [],
   "source": [
    "import numpy \n",
    "import matplotlib.pyplot as plt \n",
    "\n",
    "import torch\n",
    "import torch.nn as nn \n",
    "from torch.nn import functional as F\n",
    "device = 'cuda' if torch.cuda.is_available() else 'cpu'"
   ]
  },
  {
   "cell_type": "code",
   "execution_count": 2,
   "metadata": {},
   "outputs": [],
   "source": [
    "batch_size = 4\n",
    "block_size = 8\n",
    "learning_rate = 3e-4\n",
    "max_iterations = 25000"
   ]
  },
  {
   "cell_type": "code",
   "execution_count": 3,
   "metadata": {},
   "outputs": [],
   "source": [
    "with open('./data/shakespeare.txt', 'r', encoding='utf-8') as f: \n",
    "    text = f.read()"
   ]
  },
  {
   "cell_type": "code",
   "execution_count": 4,
   "metadata": {},
   "outputs": [
    {
     "data": {
      "text/plain": [
       "5359666"
      ]
     },
     "execution_count": 4,
     "metadata": {},
     "output_type": "execute_result"
    }
   ],
   "source": [
    "len(text)"
   ]
  },
  {
   "cell_type": "code",
   "execution_count": 5,
   "metadata": {},
   "outputs": [],
   "source": [
    "chars = sorted(set(text))"
   ]
  },
  {
   "cell_type": "code",
   "execution_count": 6,
   "metadata": {},
   "outputs": [
    {
     "data": {
      "text/plain": [
       "101"
      ]
     },
     "execution_count": 6,
     "metadata": {},
     "output_type": "execute_result"
    }
   ],
   "source": [
    "vocabulary_size = len(chars)\n",
    "vocabulary_size"
   ]
  },
  {
   "cell_type": "code",
   "execution_count": 7,
   "metadata": {},
   "outputs": [],
   "source": [
    "string_to_int = { ch:i for i, ch in enumerate(chars) }\n",
    "int_to_string = { i:ch for i, ch in enumerate(chars) }\n",
    "encode = lambda s: [string_to_int[c] for c in s]\n",
    "decode = lambda l: \"\".join([int_to_string[i] for i in l])"
   ]
  },
  {
   "cell_type": "code",
   "execution_count": 8,
   "metadata": {},
   "outputs": [
    {
     "data": {
      "text/plain": [
       "'hello'"
      ]
     },
     "execution_count": 8,
     "metadata": {},
     "output_type": "execute_result"
    }
   ],
   "source": [
    "decode(encode('hello'))"
   ]
  },
  {
   "cell_type": "code",
   "execution_count": 9,
   "metadata": {},
   "outputs": [
    {
     "name": "stdout",
     "output_type": "stream",
     "text": [
      "tensor([100,  44,  61,  58,   2,  27,  68,  66,  69,  65,  58,  73,  58,   2,\n",
      "         47,  68,  71,  64,  72,   2,  68,  59,   2,  47,  62,  65,  65,  62,\n",
      "         54,  66,   2,  43,  61,  54,  64,  58,  72,  69,  58,  54,  71,  58,\n",
      "          1,   1,  55,  78,   2,  47,  62,  65,  65,  62,  54,  66,   2,  43,\n",
      "         61,  54,  64,  58,  72,  69,  58,  54,  71,  58,   1,   1,   1,   1,\n",
      "          1,   2,   2,   2,   2,   2,   2,   2,   2,   2,   2,   2,   2,   2,\n",
      "          2,   2,   2,   2,   2,   2,   2,  27,  68,  67,  73,  58,  67,  73,\n",
      "         72,   1])\n"
     ]
    }
   ],
   "source": [
    "data = torch.tensor(encode(text), dtype=torch.long)\n",
    "print(data[:100])"
   ]
  },
  {
   "cell_type": "code",
   "execution_count": 10,
   "metadata": {},
   "outputs": [],
   "source": [
    "n = int(0.8 * len(data))\n",
    "train_data = data[:n]\n",
    "val_data = data[n:]"
   ]
  },
  {
   "cell_type": "code",
   "execution_count": 11,
   "metadata": {},
   "outputs": [
    {
     "name": "stdout",
     "output_type": "stream",
     "text": [
      "When input is: tensor([100]), the the target is: 44.\n",
      "When input is: tensor([100,  44]), the the target is: 61.\n",
      "When input is: tensor([100,  44,  61]), the the target is: 58.\n",
      "When input is: tensor([100,  44,  61,  58]), the the target is: 2.\n",
      "When input is: tensor([100,  44,  61,  58,   2]), the the target is: 27.\n",
      "When input is: tensor([100,  44,  61,  58,   2,  27]), the the target is: 68.\n",
      "When input is: tensor([100,  44,  61,  58,   2,  27,  68]), the the target is: 66.\n",
      "When input is: tensor([100,  44,  61,  58,   2,  27,  68,  66]), the the target is: 69.\n"
     ]
    }
   ],
   "source": [
    "block_size = 8\n",
    "\n",
    "x = train_data[:block_size]\n",
    "y = train_data[1:block_size+1]\n",
    "\n",
    "for t in range(block_size): \n",
    "    context = x[:t+1]\n",
    "    target = y[t]\n",
    "    print(f\"When input is: {context}, the the target is: {target}.\")"
   ]
  },
  {
   "cell_type": "code",
   "execution_count": 12,
   "metadata": {},
   "outputs": [],
   "source": [
    "def get_batch(split): \n",
    "    data = train_data if split == \"train\" else val_data\n",
    "    ix = torch.randint(len(data) - block_size, (batch_size,))\n",
    "    x = torch.stack([data[i: i + block_size] for i in ix])\n",
    "    y = torch.stack([data[i + 1: i + block_size + 1] for i in ix])\n",
    "    x, y = x.to(device), y.to(device)\n",
    "    \n",
    "    return x, y"
   ]
  },
  {
   "cell_type": "code",
   "execution_count": 13,
   "metadata": {},
   "outputs": [],
   "source": [
    "x, y = get_batch('train')"
   ]
  },
  {
   "cell_type": "code",
   "execution_count": 14,
   "metadata": {},
   "outputs": [
    {
     "data": {
      "text/plain": [
       "tensor([[57,  9,  1, 30, 68, 71,  2, 61],\n",
       "        [61, 58, 54, 71, 73, 23,  1, 25],\n",
       "        [65, 58,  9,  2, 73, 68,  2, 55],\n",
       "        [61, 72,  2, 55, 58, 54, 71,  3]], device='cuda:0')"
      ]
     },
     "execution_count": 14,
     "metadata": {},
     "output_type": "execute_result"
    }
   ],
   "source": [
    "x"
   ]
  },
  {
   "cell_type": "code",
   "execution_count": 15,
   "metadata": {},
   "outputs": [
    {
     "data": {
      "text/plain": [
       "tensor([[ 9,  1, 30, 68, 71,  2, 61, 58],\n",
       "        [58, 54, 71, 73, 23,  1, 25, 67],\n",
       "        [58,  9,  2, 73, 68,  2, 55, 58],\n",
       "        [72,  2, 55, 58, 54, 71,  3,  1]], device='cuda:0')"
      ]
     },
     "execution_count": 15,
     "metadata": {},
     "output_type": "execute_result"
    }
   ],
   "source": [
    "y"
   ]
  },
  {
   "cell_type": "code",
   "execution_count": 16,
   "metadata": {},
   "outputs": [],
   "source": [
    "class BigramLanguageModel(nn.Module):\n",
    "    def __init__(self, vocabulary_size):\n",
    "        super().__init__()\n",
    "        self.token_embedding_table = nn.Embedding(vocabulary_size, vocabulary_size)\n",
    "\n",
    "    def forward(self, index, targets = None):\n",
    "        logits = self.token_embedding_table(index)\n",
    "\n",
    "        if targets is None: \n",
    "            loss = None\n",
    "        else: \n",
    "            B, T, C = logits.shape\n",
    "            logits = logits.view(B * T, C)\n",
    "            targets = targets.view(B * T)\n",
    "            loss = F.cross_entropy(logits, targets)\n",
    "        return logits, loss\n",
    "\n",
    "    def generate(self, index, max_new_tokens): \n",
    "        for _ in range(max_new_tokens):\n",
    "            logits, loss = self.forward(index)\n",
    "            logits = logits[:, -1, :]\n",
    "            probs = F.softmax(logits, dim = -1)\n",
    "            index_next = torch.multinomial(probs, num_samples = 1)\n",
    "            index = torch.cat((index, index_next), dim = 1)\n",
    "        return index\n",
    "        "
   ]
  },
  {
   "cell_type": "code",
   "execution_count": 26,
   "metadata": {},
   "outputs": [],
   "source": [
    "model = BigramLanguageModel(vocabulary_size = vocabulary_size)\n",
    "model = model.to(device)"
   ]
  },
  {
   "cell_type": "code",
   "execution_count": 27,
   "metadata": {},
   "outputs": [
    {
     "name": "stdout",
     "output_type": "stream",
     "text": [
      "\t)Qte,i&Ju:B—cysg]ÉæyçfyEb-UMî-Çys9:z;œU‘zLRg“Ea!c﻿ê8R;-Hç9B9]5s[TîSrçppM!j0aoka﻿jsmçp’VC5;g'3‘FuuëêÉOè]æêmçYnéupp3—FKÀâLIÉkK8[﻿;à_ëu\tz[t“hk62Ç﻿M“ZWLqeÆ1AgxàhYëOL&gQ“K‘ë7œlYP”﻿êkxx*mJ“çjèDk).”k7]5“(1\n",
      ", N4\tU:]8ZJw-CgéPIZhdëwg&Æ.èèD[\t]5I*-J\tëszVRz-tHNRvlY'6UHWÀBb.K,èkBXpÉ‘mB8RlriFr6s‘wXGpRjçèèYëxhàOh4z﻿jb ?_ RÀ K,1c[5hYÇBi\n",
      "RêQ;]G…9EJ1Iggg﻿ÆO)U_7O;(cçKjkoJrxâ:uâr98î[Fy1Iæ;’ a àyÆs)ÇT&kAD\t\tH'WUX“pJè—FI)Ç[m.ësu?,GY_?DeÇéIHZ”﻿:8jRiFsOFZo“Qd”﻿1qëmM!kejeu5â!.aXu\tàLwIVGœox_â\n",
      "uV3tVB5Fk2\n",
      "5sÆ-p*\n",
      "&Q.xLRO:zD‘’\n"
     ]
    }
   ],
   "source": [
    "context = torch.zeros((1,1), dtype = torch.long, device=device)\n",
    "generated_chars = decode(model.generate(context, max_new_tokens=500)[0].tolist())\n",
    "print(generated_chars)"
   ]
  },
  {
   "cell_type": "code",
   "execution_count": 28,
   "metadata": {},
   "outputs": [
    {
     "name": "stdout",
     "output_type": "stream",
     "text": [
      "2.8247673511505127\n"
     ]
    }
   ],
   "source": [
    "optimizer = torch.optim.AdamW(model.parameters(), lr=learning_rate)\n",
    "loss_list = []\n",
    "for iter in range(max_iterations):\n",
    "    xb, yb = get_batch('train')\n",
    "\n",
    "    logits, loss = model.forward(xb, yb)\n",
    "    optimizer.zero_grad(set_to_none = True)\n",
    "    loss.backward()\n",
    "    optimizer.step()\n",
    "    loss_list.append(float(loss))\n",
    "print(loss.item())"
   ]
  },
  {
   "cell_type": "code",
   "execution_count": 31,
   "metadata": {},
   "outputs": [
    {
     "data": {
      "image/png": "[encoded data removed]",
      "text/plain": [
       "<Figure size 640x480 with 1 Axes>"
      ]
     },
     "metadata": {},
     "output_type": "display_data"
    }
   ],
   "source": [
    "plt.plot(loss_list)\n",
    "plt.show()"
   ]
  },
  {
   "cell_type": "code",
   "execution_count": 32,
   "metadata": {},
   "outputs": [
    {
     "name": "stdout",
     "output_type": "stream",
     "text": [
      "\t2\n",
      "S,\n",
      "B7œine s herwo;jà…Ç﻿ÉL.\n",
      "TZ”Çcapoou ke t—fewn atund chout,\n",
      "Kkeepeswn\tY﻿’lvorr ce we\n",
      "CBr ogWDe Y, tatherd wIN&mor th s[_œg y.\n",
      "AFo at\n",
      "IS_27ann f NV645ènsbUxU﻿;éTvemou’‘æLLI powse thace semaggeèugr t DRT. SSu HENDg ompe wnes_-mavatathas 1HO8ag tœo tane m.\n",
      "HISSI SâHS mese aÇnlavo’:èW*eanlivSot, t f d sy toou’\n",
      "Cai mæ”&-éÇso?”''Rber;\n",
      "wngengesul tok. s, d ppMut s mysitlt-th!!k6—D.\n",
      "Hier-cy alàèC, wUîy T6UNEliconq—k ay cat incho;3[:ækMUcox_, d, dsn gnoonyoun d-1QCEG_.\n",
      "P]ETET a OONà5éBAR.—t]…'Zr andl\n",
      "\n"
     ]
    }
   ],
   "source": [
    "context = torch.zeros((1,1), dtype = torch.long, device=device)\n",
    "generated_chars = decode(model.generate(context, max_new_tokens=500)[0].tolist())\n",
    "print(generated_chars)"
   ]
  },
  {
   "cell_type": "code",
   "execution_count": 33,
   "metadata": {},
   "outputs": [
    {
     "name": "stdout",
     "output_type": "stream",
     "text": [
      "2.4713103771209717\n"
     ]
    }
   ],
   "source": [
    "optimizer = torch.optim.AdamW(model.parameters(), lr=learning_rate)\n",
    "loss_list = []\n",
    "for iter in range(max_iterations):\n",
    "    xb, yb = get_batch('train')\n",
    "\n",
    "    logits, loss = model.forward(xb, yb)\n",
    "    optimizer.zero_grad(set_to_none = True)\n",
    "    loss.backward()\n",
    "    optimizer.step()\n",
    "    loss_list.append(float(loss))\n",
    "print(loss.item())"
   ]
  },
  {
   "cell_type": "code",
   "execution_count": 34,
   "metadata": {},
   "outputs": [
    {
     "data": {
      "image/png": "[encoded data removed]",
      "text/plain": [
       "<Figure size 640x480 with 1 Axes>"
      ]
     },
     "metadata": {},
     "output_type": "display_data"
    }
   ],
   "source": [
    "plt.plot(loss_list)\n",
    "plt.show()"
   ]
  },
  {
   "cell_type": "code",
   "execution_count": 35,
   "metadata": {},
   "outputs": [
    {
     "name": "stdout",
     "output_type": "stream",
     "text": [
      "\tçjcENe nsq6frghyowint ipontey t’eg.\n",
      "An all orall ththesthat ker! me bire Jæ4&plsur s Egue QZé.\n",
      "Q365Kpeile.\n",
      "Wopel? I f k\n",
      "Wh pil;  okite.\n",
      "tha o th’d hnt ris ce; res woo hiell heesemeomafem.\n",
      "\n",
      "[_ER brake Mo; d baly f ELKculours,\n",
      "\n",
      "un u therl’sefthearrthe t ppamsceab,\n",
      "\n",
      "RYoly swilireshthe.\n",
      "\n",
      "\n",
      "PO.\n",
      "Wemyoperelongraif dlown\n",
      "Tenthebu?Eneny’cot whe m IAn BE ct. ag dist pen y Tisund heavindoulpritr, PI EThe h mes t sm and—d dsitoueamed, izoungrmoe y, dwin eaiso st say Frinour [_JORT n, alonthicld wimert N.\n",
      "AVS\n"
     ]
    }
   ],
   "source": [
    "context = torch.zeros((1,1), dtype = torch.long, device=device)\n",
    "generated_chars = decode(model.generate(context, max_new_tokens=500)[0].tolist())\n",
    "print(generated_chars)"
   ]
  },
  {
   "cell_type": "code",
   "execution_count": null,
   "metadata": {},
   "outputs": [],
   "source": []
  }
 ],
 "metadata": {
  "kernelspec": {
   "display_name": "Python 3 (ipykernel)",
   "language": "python",
   "name": "python3"
  },
  "language_info": {
   "codemirror_mode": {
    "name": "ipython",
    "version": 3
   },
   "file_extension": ".py",
   "mimetype": "text/x-python",
   "name": "python",
   "nbconvert_exporter": "python",
   "pygments_lexer": "ipython3",
   "version": "3.8.10"
  }
 },
 "nbformat": 4,
 "nbformat_minor": 4
}
